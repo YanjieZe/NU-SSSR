{
 "cells": [
  {
   "cell_type": "code",
   "execution_count": 1,
   "metadata": {},
   "outputs": [],
   "source": [
    "import torch\n",
    "import numpy as np\n",
    "import torch.nn as nn\n",
    "from torch.nn.modules.loss import MSELoss\n",
    "from torch.utils.data import dataloader\n",
    "import utils\n",
    "from arguments import parse_args\n",
    "import torch.optim as optim\n",
    "import torch.utils.data as data\n",
    "\n",
    "import torchvision\n",
    "import torchvision.transforms as T\n",
    "import PIL\n",
    "import numpy as np\n",
    "import matplotlib.pyplot as plt\n",
    "import tqdm\n",
    "\n",
    "from IPython.display import clear_output as clear\n",
    "\n",
    "%matplotlib inline\n",
    "%load_ext autoreload\n",
    "%autoreload 2\n",
    "\n",
    "class LossLogger(object):\n",
    "    def __init__(self, decay):\n",
    "        self.loss = 0\n",
    "        self.decay = decay\n",
    "        \n",
    "    def push(self, loss):\n",
    "        self.loss *= self.decay\n",
    "        self.loss += loss * (1-self.decay)\n",
    "        \n",
    "    def loss(self):\n",
    "        return self.loss\n",
    "    \n",
    "    def flush(self):\n",
    "        self.loss = 0\n",
    "        \n",
    "\n",
    "logger = LossLogger(0.8)"
   ]
  },
  {
   "cell_type": "code",
   "execution_count": 2,
   "metadata": {},
   "outputs": [],
   "source": [
    "args = parse_args([\"--alg\", \"VDSR\", \"--point_num\", \"5000\", \"--description\", \"psnr+ssim\", \"--lr\", \"1e-5\", \"--epoch\", \"100\"])"
   ]
  },
  {
   "cell_type": "code",
   "execution_count": 3,
   "metadata": {},
   "outputs": [
    {
     "name": "stdout",
     "output_type": "stream",
     "text": [
      "cuda:0\n"
     ]
    }
   ],
   "source": [
    "# Training Preparation\n",
    "utils.set_seed_everywhere(args.seed)\n",
    "\n",
    "device = torch.device('cuda:0' if args.device == 'gpu' and torch.cuda.is_available() else 'cpu')\n",
    "print(device)\n",
    "\n",
    "train_dataset = utils.TrainDataset(args)\n",
    "train_loader = data.DataLoader(dataset=train_dataset,\n",
    "                                batch_size=args.batch_size,\n",
    "                                shuffle=True,\n",
    "                                num_workers=args.num_workers,\n",
    "                                pin_memory=True,\n",
    "                                drop_last=True,\n",
    "                                collate_fn=utils.collect_function)\n",
    "\n",
    "loss_function = nn.MSELoss()\n",
    "\n",
    "# loss_function = lambda img_gt, img_pred : -utils.psnr(img_gt, img_pred) - utils.ssim(img_gt, img_pred)\n",
    "\n",
    "model = utils.make_model(args).to(device)\n",
    "model = model.float()\n",
    "\n",
    "optimizer = optim.Adam(params=model.parameters(),lr=args.lr)\n",
    "\n",
    "e = 0"
   ]
  },
  {
   "cell_type": "code",
   "execution_count": 4,
   "metadata": {},
   "outputs": [
    {
     "name": "stderr",
     "output_type": "stream",
     "text": [
      "Clipping input data to the valid range for imshow with RGB data ([0..1] for floats or [0..255] for integers).\n"
     ]
    }
   ],
   "source": [
    "# Start training\n",
    "# train_loader = tqdm.tqdm(train_loader)\n",
    "\n",
    "for _ in range(10):\n",
    "    model.train()\n",
    "    for idx, img_pair in enumerate(train_loader):\n",
    "        \n",
    "        img_hr = img_pair['hr'].to(device)\n",
    "        img_lr = img_pair['lr'].to(device)\n",
    "        \n",
    "        if args.alg == 'CNF':\n",
    "            img_predict, loss = model(x_hr=img_hr, xlr=img_lr)\n",
    "        else:\n",
    "            img_predict = model(img_lr)\n",
    "            # loss = loss_function(img_hr, img_predict)\n",
    "            psnr = utils.psnr(img_hr, img_predict)\n",
    "            ssim = utils.ssim(img_hr, img_predict)\n",
    "            loss = -psnr/300 - ssim\n",
    "\n",
    "\n",
    "        optimizer.zero_grad()\n",
    "        loss.backward()\n",
    "        optimizer.step()\n",
    "        \n",
    "        logger.push(loss.item())\n",
    "        clear()\n",
    "        utils.show_gt_and_pred(img_hr=img_hr[0].permute(1,2,0).cpu(), img_lr=img_lr[0].permute(1,2,0).cpu(), pred_hr=img_predict[0].permute(1,2,0).detach().cpu(), figsize=(30, 30))\n",
    "        # train_loader.set_description(f\"epoch: {e} | idx: {idx} | loss: {logger.loss}\")\n",
    "        print(f\"epoch: {e} | idx: {idx} | loss: {logger.loss} | psnr: {psnr} | ssim: {ssim}\")\n",
    "\n",
    "\n",
    "    utils.save_model(model, e, args)\n",
    "    e += 1"
   ]
  }
 ],
 "metadata": {
  "interpreter": {
   "hash": "e0a14ab1b1970d62b335c99762f5a19019209fb6618cd6df77ae1340d6621ffa"
  },
  "kernelspec": {
   "display_name": "Python 3.7.9 64-bit ('cs231n': conda)",
   "language": "python",
   "name": "python3"
  },
  "language_info": {
   "codemirror_mode": {
    "name": "ipython",
    "version": 3
   },
   "file_extension": ".py",
   "mimetype": "text/x-python",
   "name": "python",
   "nbconvert_exporter": "python",
   "pygments_lexer": "ipython3",
   "version": "3.7.9"
  },
  "orig_nbformat": 4
 },
 "nbformat": 4,
 "nbformat_minor": 2
}
